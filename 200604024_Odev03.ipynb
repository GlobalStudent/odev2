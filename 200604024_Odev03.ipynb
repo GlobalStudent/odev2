{
 "cells": [
  {
   "attachments": {},
   "cell_type": "markdown",
   "metadata": {},
   "source": [
    "# END336 ÖDEV 03"
   ]
  },
  {
   "attachments": {},
   "cell_type": "markdown",
   "metadata": {},
   "source": [
    "# Kurallar \n",
    "### 1) Dosya adında OgrenciNo kısmında yazan bölüme öğrenci numaranızı yazınız. \n",
    "### 2) Notebook içerisindeki ilgili boşluklara kodlarınızı yazınız.  \n",
    "### 3) Dosyayı sıkıştırarak sisteme yükleyiniz.   \n",
    "### 4) Sisteme zamanında yüklenmeyen ve maille yollanan ödevler kabul edilmez.   \n",
    "### 5) Ödev bireyseldir."
   ]
  },
  {
   "attachments": {},
   "cell_type": "markdown",
   "metadata": {},
   "source": [
    "Öğrenci No:\n",
    "\n",
    "Öğrenci Ad-Soyad: "
   ]
  },
  {
   "cell_type": "code",
   "execution_count": 2,
   "metadata": {},
   "outputs": [],
   "source": [
    "import pandas as pd\n",
    "import warnings\n",
    "import numpy as np\n",
    "from sklearn.datasets import fetch_openml\n",
    "warnings.filterwarnings(\"ignore\")"
   ]
  },
  {
   "cell_type": "code",
   "execution_count": 3,
   "metadata": {},
   "outputs": [
    {
     "data": {
      "text/html": [
       "<div>\n",
       "<style scoped>\n",
       "    .dataframe tbody tr th:only-of-type {\n",
       "        vertical-align: middle;\n",
       "    }\n",
       "\n",
       "    .dataframe tbody tr th {\n",
       "        vertical-align: top;\n",
       "    }\n",
       "\n",
       "    .dataframe thead th {\n",
       "        text-align: right;\n",
       "    }\n",
       "</style>\n",
       "<table border=\"1\" class=\"dataframe\">\n",
       "  <thead>\n",
       "    <tr style=\"text-align: right;\">\n",
       "      <th></th>\n",
       "      <th>family</th>\n",
       "      <th>product-type</th>\n",
       "      <th>steel</th>\n",
       "      <th>carbon</th>\n",
       "      <th>hardness</th>\n",
       "      <th>temper_rolling</th>\n",
       "      <th>condition</th>\n",
       "      <th>formability</th>\n",
       "      <th>strength</th>\n",
       "      <th>non-ageing</th>\n",
       "      <th>...</th>\n",
       "      <th>jurofm</th>\n",
       "      <th>s</th>\n",
       "      <th>p</th>\n",
       "      <th>shape</th>\n",
       "      <th>thick</th>\n",
       "      <th>width</th>\n",
       "      <th>len</th>\n",
       "      <th>oil</th>\n",
       "      <th>bore</th>\n",
       "      <th>packing</th>\n",
       "    </tr>\n",
       "  </thead>\n",
       "  <tbody>\n",
       "    <tr>\n",
       "      <th>0</th>\n",
       "      <td>NaN</td>\n",
       "      <td>C</td>\n",
       "      <td>A</td>\n",
       "      <td>8.0</td>\n",
       "      <td>0.0</td>\n",
       "      <td>NaN</td>\n",
       "      <td>S</td>\n",
       "      <td>NaN</td>\n",
       "      <td>0.0</td>\n",
       "      <td>NaN</td>\n",
       "      <td>...</td>\n",
       "      <td>NaN</td>\n",
       "      <td>NaN</td>\n",
       "      <td>NaN</td>\n",
       "      <td>COIL</td>\n",
       "      <td>0.700</td>\n",
       "      <td>610.0</td>\n",
       "      <td>0.0</td>\n",
       "      <td>NaN</td>\n",
       "      <td>0</td>\n",
       "      <td>NaN</td>\n",
       "    </tr>\n",
       "    <tr>\n",
       "      <th>1</th>\n",
       "      <td>NaN</td>\n",
       "      <td>C</td>\n",
       "      <td>R</td>\n",
       "      <td>0.0</td>\n",
       "      <td>0.0</td>\n",
       "      <td>NaN</td>\n",
       "      <td>S</td>\n",
       "      <td>2</td>\n",
       "      <td>0.0</td>\n",
       "      <td>NaN</td>\n",
       "      <td>...</td>\n",
       "      <td>NaN</td>\n",
       "      <td>NaN</td>\n",
       "      <td>NaN</td>\n",
       "      <td>COIL</td>\n",
       "      <td>3.200</td>\n",
       "      <td>610.0</td>\n",
       "      <td>0.0</td>\n",
       "      <td>NaN</td>\n",
       "      <td>0</td>\n",
       "      <td>NaN</td>\n",
       "    </tr>\n",
       "    <tr>\n",
       "      <th>2</th>\n",
       "      <td>NaN</td>\n",
       "      <td>C</td>\n",
       "      <td>R</td>\n",
       "      <td>0.0</td>\n",
       "      <td>0.0</td>\n",
       "      <td>NaN</td>\n",
       "      <td>S</td>\n",
       "      <td>2</td>\n",
       "      <td>0.0</td>\n",
       "      <td>NaN</td>\n",
       "      <td>...</td>\n",
       "      <td>NaN</td>\n",
       "      <td>NaN</td>\n",
       "      <td>NaN</td>\n",
       "      <td>SHEET</td>\n",
       "      <td>0.700</td>\n",
       "      <td>1300.0</td>\n",
       "      <td>762.0</td>\n",
       "      <td>NaN</td>\n",
       "      <td>0</td>\n",
       "      <td>NaN</td>\n",
       "    </tr>\n",
       "    <tr>\n",
       "      <th>3</th>\n",
       "      <td>NaN</td>\n",
       "      <td>C</td>\n",
       "      <td>A</td>\n",
       "      <td>0.0</td>\n",
       "      <td>60.0</td>\n",
       "      <td>T</td>\n",
       "      <td>NaN</td>\n",
       "      <td>NaN</td>\n",
       "      <td>0.0</td>\n",
       "      <td>NaN</td>\n",
       "      <td>...</td>\n",
       "      <td>NaN</td>\n",
       "      <td>NaN</td>\n",
       "      <td>NaN</td>\n",
       "      <td>COIL</td>\n",
       "      <td>2.801</td>\n",
       "      <td>385.1</td>\n",
       "      <td>0.0</td>\n",
       "      <td>NaN</td>\n",
       "      <td>0</td>\n",
       "      <td>NaN</td>\n",
       "    </tr>\n",
       "    <tr>\n",
       "      <th>4</th>\n",
       "      <td>NaN</td>\n",
       "      <td>C</td>\n",
       "      <td>A</td>\n",
       "      <td>0.0</td>\n",
       "      <td>60.0</td>\n",
       "      <td>T</td>\n",
       "      <td>NaN</td>\n",
       "      <td>NaN</td>\n",
       "      <td>0.0</td>\n",
       "      <td>NaN</td>\n",
       "      <td>...</td>\n",
       "      <td>NaN</td>\n",
       "      <td>NaN</td>\n",
       "      <td>NaN</td>\n",
       "      <td>SHEET</td>\n",
       "      <td>0.801</td>\n",
       "      <td>255.0</td>\n",
       "      <td>269.0</td>\n",
       "      <td>NaN</td>\n",
       "      <td>0</td>\n",
       "      <td>NaN</td>\n",
       "    </tr>\n",
       "  </tbody>\n",
       "</table>\n",
       "<p>5 rows × 38 columns</p>\n",
       "</div>"
      ],
      "text/plain": [
       "  family product-type steel  carbon  hardness temper_rolling condition  \\\n",
       "0    NaN            C     A     8.0       0.0            NaN         S   \n",
       "1    NaN            C     R     0.0       0.0            NaN         S   \n",
       "2    NaN            C     R     0.0       0.0            NaN         S   \n",
       "3    NaN            C     A     0.0      60.0              T       NaN   \n",
       "4    NaN            C     A     0.0      60.0              T       NaN   \n",
       "\n",
       "  formability  strength non-ageing  ... jurofm    s    p  shape  thick  \\\n",
       "0         NaN       0.0        NaN  ...    NaN  NaN  NaN   COIL  0.700   \n",
       "1           2       0.0        NaN  ...    NaN  NaN  NaN   COIL  3.200   \n",
       "2           2       0.0        NaN  ...    NaN  NaN  NaN  SHEET  0.700   \n",
       "3         NaN       0.0        NaN  ...    NaN  NaN  NaN   COIL  2.801   \n",
       "4         NaN       0.0        NaN  ...    NaN  NaN  NaN  SHEET  0.801   \n",
       "\n",
       "    width    len  oil bore packing  \n",
       "0   610.0    0.0  NaN    0     NaN  \n",
       "1   610.0    0.0  NaN    0     NaN  \n",
       "2  1300.0  762.0  NaN    0     NaN  \n",
       "3   385.1    0.0  NaN    0     NaN  \n",
       "4   255.0  269.0  NaN    0     NaN  \n",
       "\n",
       "[5 rows x 38 columns]"
      ]
     },
     "execution_count": 3,
     "metadata": {},
     "output_type": "execute_result"
    }
   ],
   "source": [
    "data = fetch_openml(\"anneal\")\n",
    "df = pd.DataFrame(data=data.data, columns=data.feature_names)\n",
    "df.head()"
   ]
  },
  {
   "attachments": {},
   "cell_type": "markdown",
   "metadata": {},
   "source": [
    "# Bölüm 1: \n",
    "### Aşağıda yer alan Yanıt bölümlerinde, verilen kodların kısaca ne amaçla kullanıldığını ve hangi görevi yerine getirdiğini yazarak açıklayınız."
   ]
  },
  {
   "cell_type": "code",
   "execution_count": 4,
   "metadata": {},
   "outputs": [
    {
     "name": "stdout",
     "output_type": "stream",
     "text": [
      "Satir ve Sütun sayıları sırasıyla 898 ve 38'dir\n"
     ]
    }
   ],
   "source": [
    "# Soru 1 Aşağıdaki kodu çalıştırarak sonuçla birlikte kodu açıklayınız.\n",
    "satir_sayisi, sutun_sayisi = df.shape\n",
    "print(f\"Satir ve Sütun sayıları sırasıyla {satir_sayisi} ve {sutun_sayisi}'dir\")"
   ]
  },
  {
   "attachments": {},
   "cell_type": "markdown",
   "metadata": {},
   "source": [
    "Yanıt 1: ilk satırdaki df.shape yapısı, üzerinde çalışılan yapının kaç satır ve sütundan oluştuğunu gösteren bir tupple nesnesi döndürmesini\n",
    "sağlar. Shape yapısının vermiş olduğu çıktıda ilk sayı satir sayisi, ikinci sayı satır sayısı oluğu için ikinci satırdaki print komutu da bu kapsamda düzenlenmiştir. Veri üzerinde yapaılacak bazı işlemlerde verinin satır ve sütun sayısı önem taşır ve kullanıcı bu sayılara erişmek amacıyla shape yapısını kullanır. "
   ]
  },
  {
   "cell_type": "code",
   "execution_count": 5,
   "metadata": {},
   "outputs": [
    {
     "data": {
      "text/plain": [
       "['carbon', 'hardness', 'strength', 'thick', 'width', 'len']"
      ]
     },
     "execution_count": 5,
     "metadata": {},
     "output_type": "execute_result"
    }
   ],
   "source": [
    "# Soru 2 Aşağıdaki kodu çalıştırarak sonuçla birlikte kodu açıklayınız.\n",
    "numerik_sutunlar = df.select_dtypes(include=\"number\").columns.to_list()\n",
    "numerik_sutunlar"
   ]
  },
  {
   "attachments": {},
   "cell_type": "markdown",
   "metadata": {},
   "source": [
    "Yanıt 2: Datalar farklı tiplere sahip olabilir. Integer, float, string, list, tupple gibi. Üzerinde çalışılan dataframe için bazen filtreme\n",
    "yapılması ve sadece istenen veri tipine sahip olan başlıkları seçmek önem taşır. Bu örnekte olduğu gibi kullanıcı sayısal değerlere sahip olan başlıkları almak istemiş ve bunun için de DATAFRAME İÇİN SÜTUNLARDA DATA TİPİ SAYISAL DEĞERLER OLAN SATIR BAŞLIKLARINI SELECT İLE FİLTRELEMİŞTİR. Kodun çıktısındaki 'carbon', 'hardness', 'strength', 'thick', 'width', 'len' satır başlıkları bu tanıma uyduğu için ortaya çıkmıştır."
   ]
  },
  {
   "cell_type": "code",
   "execution_count": 6,
   "metadata": {},
   "outputs": [
    {
     "data": {
      "text/plain": [
       "['family',\n",
       " 'product-type',\n",
       " 'steel',\n",
       " 'temper_rolling',\n",
       " 'condition',\n",
       " 'formability',\n",
       " 'non-ageing',\n",
       " 'surface-finish',\n",
       " 'surface-quality',\n",
       " 'enamelability',\n",
       " 'bc',\n",
       " 'bf',\n",
       " 'bt',\n",
       " 'bw%2Fme',\n",
       " 'bl',\n",
       " 'm',\n",
       " 'chrom',\n",
       " 'phos',\n",
       " 'cbond',\n",
       " 'marvi',\n",
       " 'exptl',\n",
       " 'ferro',\n",
       " 'corr',\n",
       " 'blue%2Fbright%2Fvarn%2Fclean',\n",
       " 'lustre',\n",
       " 'jurofm',\n",
       " 's',\n",
       " 'p',\n",
       " 'shape',\n",
       " 'oil',\n",
       " 'bore',\n",
       " 'packing']"
      ]
     },
     "execution_count": 6,
     "metadata": {},
     "output_type": "execute_result"
    }
   ],
   "source": [
    "# Soru 3 Aşağıdaki kodu çalıştırarak sonuçla birlikte kodu açıklayınız.\n",
    "kategorik_sutunlar = df.select_dtypes(exclude=\"number\").columns.to_list()\n",
    "kategorik_sutunlar"
   ]
  },
  {
   "attachments": {},
   "cell_type": "markdown",
   "metadata": {},
   "source": [
    "Yanıt 3: Datalar farklı tiplere sahip olabilir. Integer, float, string, list, tupple gibi. Üzerinde çalışılan dataframe için bazen filtreme\n",
    "yapılması ve sadece istenen veri tipine sahip olan başlıkları seçmek önem taşır. Bu örnekte olduğu gibi kullanıcı harfsel(kategorik-sayısal olmayan) değerlere sahip olan başlıkları almak istemiş ve bunun için de DATAFRAME İÇİN SÜTUNLARDA DATA TİPİ SAYISAL DEĞERLER OLMAYAN(İÇERMEYEN) SATIR BAŞLIKLARINI EXCLUDE İLE FİLTRELEMİŞTİR. Kodun çıktısındaki satır başlıkları ise bu tanıma uyduğu için ortaya çıkmıştır."
   ]
  },
  {
   "cell_type": "code",
   "execution_count": 7,
   "metadata": {},
   "outputs": [
    {
     "data": {
      "text/html": [
       "<div>\n",
       "<style scoped>\n",
       "    .dataframe tbody tr th:only-of-type {\n",
       "        vertical-align: middle;\n",
       "    }\n",
       "\n",
       "    .dataframe tbody tr th {\n",
       "        vertical-align: top;\n",
       "    }\n",
       "\n",
       "    .dataframe thead th {\n",
       "        text-align: right;\n",
       "    }\n",
       "</style>\n",
       "<table border=\"1\" class=\"dataframe\">\n",
       "  <thead>\n",
       "    <tr style=\"text-align: right;\">\n",
       "      <th></th>\n",
       "      <th>steel</th>\n",
       "    </tr>\n",
       "  </thead>\n",
       "  <tbody>\n",
       "    <tr>\n",
       "      <th>A</th>\n",
       "      <td>440</td>\n",
       "    </tr>\n",
       "    <tr>\n",
       "      <th>R</th>\n",
       "      <td>256</td>\n",
       "    </tr>\n",
       "    <tr>\n",
       "      <th>K</th>\n",
       "      <td>51</td>\n",
       "    </tr>\n",
       "    <tr>\n",
       "      <th>M</th>\n",
       "      <td>20</td>\n",
       "    </tr>\n",
       "    <tr>\n",
       "      <th>W</th>\n",
       "      <td>19</td>\n",
       "    </tr>\n",
       "    <tr>\n",
       "      <th>V</th>\n",
       "      <td>16</td>\n",
       "    </tr>\n",
       "    <tr>\n",
       "      <th>S</th>\n",
       "      <td>10</td>\n",
       "    </tr>\n",
       "    <tr>\n",
       "      <th>U</th>\n",
       "      <td>0</td>\n",
       "    </tr>\n",
       "  </tbody>\n",
       "</table>\n",
       "</div>"
      ],
      "text/plain": [
       "   steel\n",
       "A    440\n",
       "R    256\n",
       "K     51\n",
       "M     20\n",
       "W     19\n",
       "V     16\n",
       "S     10\n",
       "U      0"
      ]
     },
     "execution_count": 7,
     "metadata": {},
     "output_type": "execute_result"
    }
   ],
   "source": [
    "# Soru 4 Aşağıdaki kodu çalıştırarak sonuçla birlikte kodu açıklayınız.\n",
    "df[\"steel\"].value_counts().to_frame()"
   ]
  },
  {
   "attachments": {},
   "cell_type": "markdown",
   "metadata": {},
   "source": [
    "Yanıt 4: Bazen üzerinde çalışılan dataframe için herhangi bir sütundaki her bir verinin kaç adet olduğu bilgisini öğrenmek önem taşır. Kullanıcı bu kod ile DATAFRAME'İN \"STEEL\" BAŞLIĞINDAKİ SÜTUNUNDA BULUNAN ELEMANLARININ(DEĞERLERİNİN) SAYILMASINI VE EN ÇOK BULUNANDAN EN AZ BULUNANA DOĞRU gösterilmesini sağlamıştır. Kodun çıktısında da bu tanıma uygun olarak hangi harfin ilgili sütunda kaç adet bulunduğu bilgisi gösterilmektedir.   "
   ]
  },
  {
   "cell_type": "code",
   "execution_count": 8,
   "metadata": {},
   "outputs": [
    {
     "data": {
      "text/plain": [
       "7"
      ]
     },
     "execution_count": 8,
     "metadata": {},
     "output_type": "execute_result"
    }
   ],
   "source": [
    "# Soru 5 Aşağıdaki kodu çalıştırarak sonuçla birlikte kodu açıklayınız.\n",
    "df[\"steel\"].nunique()"
   ]
  },
  {
   "attachments": {},
   "cell_type": "markdown",
   "metadata": {},
   "source": [
    "Yanıt 5: Dataframedeki \"STEEL\" ile adlandırılmış sütun içindeki değerlerin kaç tanesinin birden fazla olarak bulunduğunu bulmak için NUMBER OF UNIQUE komutu kullanılmıştır. Çıktının 7 olmasının nedeni ise A-R-K-M-W-V-S değerlerinin bu tanıma uygun olmasıdır. (NUMBER OF UNIQUE komutunu sadece kategorik değişkenler için uygulamak gerekir.)"
   ]
  },
  {
   "attachments": {},
   "cell_type": "markdown",
   "metadata": {},
   "source": [
    "# Bölüm 2: \n",
    "## Aşağıdaki soruların altına (aynı hücre içerisinde) kodlarınızı yazıp çalıştırınız."
   ]
  },
  {
   "cell_type": "code",
   "execution_count": 17,
   "metadata": {},
   "outputs": [
    {
     "name": "stdout",
     "output_type": "stream",
     "text": [
      "                                0\n",
      "family                        772\n",
      "product-type                    0\n",
      "steel                          86\n",
      "temper_rolling                761\n",
      "condition                     303\n",
      "formability                   318\n",
      "non-ageing                    793\n",
      "surface-finish                889\n",
      "surface-quality               244\n",
      "enamelability                 882\n",
      "bc                            897\n",
      "bf                            769\n",
      "bt                            824\n",
      "bw%2Fme                       687\n",
      "bl                            749\n",
      "m                             898\n",
      "chrom                         872\n",
      "phos                          891\n",
      "cbond                         824\n",
      "marvi                         898\n",
      "exptl                         896\n",
      "ferro                         868\n",
      "corr                          898\n",
      "blue%2Fbright%2Fvarn%2Fclean  892\n",
      "lustre                        847\n",
      "jurofm                        898\n",
      "s                             898\n",
      "p                             898\n",
      "shape                           0\n",
      "oil                           834\n",
      "bore                            0\n",
      "packing                       889\n"
     ]
    }
   ],
   "source": [
    "# Soru 6: Kategorik sütunların her birinde kaç adet kayıp veri/değer (missing value) olduğunu dataframe tipinde elde ediniz. \n",
    "yeni=(df.select_dtypes(exclude=\"number\").isnull().sum()).to_frame()\n",
    "print(yeni)\n"
   ]
  },
  {
   "cell_type": "code",
   "execution_count": 33,
   "metadata": {},
   "outputs": [
    {
     "name": "stdout",
     "output_type": "stream",
     "text": [
      "0    A\n",
      "Name: steel, dtype: category\n",
      "Categories (8, object): ['R', 'A', 'U', 'K', 'M', 'S', 'W', 'V']\n"
     ]
    }
   ],
   "source": [
    "# Soru 7: steel sütununda en fazla tekrar eden (mode) değeri en_cok_tekrar_eden isimli degiskene atayınız. (ipucu: series yerine str tipinde olduğundan emin olunmalıdır)\n",
    "en_cok_tekrar_eden=df['steel'].mode()\n",
    "print(en_cok_tekrar_eden)"
   ]
  },
  {
   "cell_type": "code",
   "execution_count": 30,
   "metadata": {},
   "outputs": [
    {
     "data": {
      "text/plain": [
       "0      A\n",
       "1      R\n",
       "2      R\n",
       "3      A\n",
       "4      A\n",
       "      ..\n",
       "893    R\n",
       "894    R\n",
       "895    V\n",
       "896    A\n",
       "897    A\n",
       "Name: steel, Length: 898, dtype: category\n",
       "Categories (8, object): ['R', 'A', 'U', 'K', 'M', 'S', 'W', 'V']"
      ]
     },
     "execution_count": 30,
     "metadata": {},
     "output_type": "execute_result"
    }
   ],
   "source": [
    "# Soru 8: steel sütunundaki kayıp değerler (missing values) yerine ilgili sütunun en çok tekrar eden değerini atayınız. (ipucu: fillna inplace parametresi)\n",
    "df[\"steel\"].fillna(df['steel'].mode())\n"
   ]
  },
  {
   "cell_type": "code",
   "execution_count": 19,
   "metadata": {},
   "outputs": [
    {
     "name": "stdout",
     "output_type": "stream",
     "text": [
      "          thick\n",
      "steel          \n",
      "R      1.289805\n",
      "A      1.079027\n",
      "U           NaN\n",
      "K      1.842157\n",
      "M      1.319850\n",
      "S      1.620000\n",
      "W      1.857842\n",
      "V      1.174813\n"
     ]
    }
   ],
   "source": [
    "# Soru 9: Çelik tipine göre ortalama kalınlık değerlerini dataframe tipinde döndüren kodu yazınız. \n",
    "# (ipucu: groupby kullanınız, çelik tipi \"steel\", kalınlık ise \"thick\" sütunlarında verilmiştir. )\n",
    "result = df.groupby('steel')['thick'].mean().to_frame()\n",
    "print(result)"
   ]
  },
  {
   "cell_type": "code",
   "execution_count": 8,
   "metadata": {},
   "outputs": [
    {
     "name": "stdout",
     "output_type": "stream",
     "text": [
      "Int64Index([  4,   9,  14,  15,  17,  18,  20,  26,  30,  32,\n",
      "            ...\n",
      "            857, 868, 869, 870, 872, 879, 884, 886, 889, 892],\n",
      "           dtype='int64', length=232)\n"
     ]
    }
   ],
   "source": [
    "# Soru 10: Dataframe'i her bir çelik tipi ve şekle göre gruplandırdıktan sonra çelik tipi \"A\" ve şekli \"SHEET\" olan verileri getiren kodu yazınız. \n",
    "# (ipucu: çelik tipi \"steel\" sütununda, çelik tipleri ise \"shape\" sütununda yer almaktadır)\n",
    "gruplama = df.groupby(['steel','shape']).groups\n",
    "print(gruplama['A','SHEET'])\n"
   ]
  }
 ],
 "metadata": {
  "kernelspec": {
   "display_name": "ml",
   "language": "python",
   "name": "python3"
  },
  "language_info": {
   "codemirror_mode": {
    "name": "ipython",
    "version": 3
   },
   "file_extension": ".py",
   "mimetype": "text/x-python",
   "name": "python",
   "nbconvert_exporter": "python",
   "pygments_lexer": "ipython3",
   "version": "3.8.8"
  },
  "orig_nbformat": 4
 },
 "nbformat": 4,
 "nbformat_minor": 2
}

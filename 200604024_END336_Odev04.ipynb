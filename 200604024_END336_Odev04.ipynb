{
 "cells": [
  {
   "attachments": {},
   "cell_type": "markdown",
   "metadata": {},
   "source": [
    "# END336 ÖDEV 04"
   ]
  },
  {
   "attachments": {},
   "cell_type": "markdown",
   "metadata": {},
   "source": [
    "# Kurallar \n",
    "### 1) Dosya adında OgrenciNo kısmında yazan bölüme öğrenci numaranızı yazınız. \n",
    "### 2) Notebook içerisindeki ilgili boşluklara kodlarınızı yazınız.  \n",
    "### 3) Dosyayı sıkıştırarak sisteme yükleyiniz.   \n",
    "### 4) Sisteme zamanında yüklenmeyen ve maille yollanan ödevler kabul edilmez.   \n",
    "### 5) Ödev bireyseldir. Grup üyeleri birlikte çalışıp yarıdmlaşabilir. "
   ]
  },
  {
   "attachments": {},
   "cell_type": "markdown",
   "metadata": {},
   "source": [
    "Öğrenci No: 200604024\n",
    "\n",
    "Öğrenci Ad-Soyad: Zafer Yılmaz"
   ]
  },
  {
   "cell_type": "code",
   "execution_count": 3,
   "metadata": {},
   "outputs": [],
   "source": [
    "# Soru 1: autograd paketinden np, grad, norm ve scipy paketinden minimize fonksiyonlarını import ediniz.\n",
    "\n",
    "from autograd import grad\n",
    "from autograd.numpy.linalg import norm\n",
    "import autograd.numpy as np\n",
    "\n",
    "from scipy.optimize import minimize\n"
   ]
  },
  {
   "attachments": {},
   "cell_type": "markdown",
   "metadata": {},
   "source": [
    "### Optimize edilecek ifade: \n",
    "### $f($**x**$) = sin(x_{1}) + cos(x_2)$"
   ]
  },
  {
   "cell_type": "code",
   "execution_count": 4,
   "metadata": {},
   "outputs": [],
   "source": [
    "# Soru 2: Optimize edilecek ifadeyi fonk isminde bir fonksiyon olarak tanımlayınız. \n",
    "import math\n",
    "\n",
    "def fonk(x1, x2):\n",
    "    return math.sin(x1) + math.cos(x2)"
   ]
  },
  {
   "cell_type": "code",
   "execution_count": 5,
   "metadata": {},
   "outputs": [],
   "source": [
    "# Soru 3: Optimizasyon yönünü hesaplayan bir fonksiyon yazınız.\n",
    "# Girdileri x0 ve fonk olan ve çıktısı x0 noktasındaki gradyan vektörü olan grad_hesapla ismindeki fonksiyonu tanımlayınız.\n",
    "def grad_hesapla(x0, fonk):\n",
    "    h = 1e-5\n",
    "    grad = []\n",
    "    for i in range(len(x0)):\n",
    "        x = x0[:]\n",
    "        x[i] += h\n",
    "        fxh1 = fonk(x)\n",
    "        x[i] -= 2*h\n",
    "        fxh2 = fonk(x)\n",
    "        grad.append((fxh1 - fxh2) / (2*h))\n",
    "    return grad\n"
   ]
  },
  {
   "cell_type": "code",
   "execution_count": 6,
   "metadata": {},
   "outputs": [],
   "source": [
    "# Soru 4: Adım büyüklüğünü hesaplayan bir fonksiyon yazınız.\n",
    "# Adım boyutu (alpha) hesaplamak amacıyla girdileri x0, yon, ve fonk olan \n",
    "# ve çıktısı en uygun alpha değeri olan alpha_hesapla ismindeki fonksiyonu tanımlayınız.\n",
    "# Alpha değerinin en iyi değerini bulurken scipy paketinin minimize fonksiyonunu kullanınız.\n",
    "\n",
    "from scipy.optimize import minimize_scalar\n",
    "\n",
    "def alpha_hesapla(x0, yon, fonk):\n",
    "   \n",
    "    hesaplama = minimize_scalar(lambda alpha: fonk([x0[i] + alpha*yon[i] for i in range(len(x0))]))\n",
    "    return hesaplama.x"
   ]
  },
  {
   "cell_type": "code",
   "execution_count": 9,
   "metadata": {},
   "outputs": [
    {
     "name": "stdout",
     "output_type": "stream",
     "text": [
      "[-2.000000000002, -2.000000000002]\n"
     ]
    }
   ],
   "source": [
    "# Soru 5: (1,1) noktası için gradyan vektörünü grad_hesapla fonksiyonunu kullanarak bulunuz.\n",
    "# Bulduğunuz sonucu -1 ile çarparak yon degiskenine atayınız\n",
    "\n",
    "def fonk(x):\n",
    "    return x[0]**2 + x[1]**2\n",
    "\n",
    "grad = grad_hesapla([1,1], fonk)\n",
    "\n",
    "yon = [-1 * g for g in grad]\n",
    "print(yon)\n"
   ]
  },
  {
   "cell_type": "code",
   "execution_count": 7,
   "metadata": {},
   "outputs": [
    {
     "name": "stdout",
     "output_type": "stream",
     "text": [
      "0.49999999999950007\n"
     ]
    }
   ],
   "source": [
    "# Soru 6: (1,1) noktası için en uygun alpha değerini tanımladığınız alpha_hesapla fonksiyonunu kullanarak bulunuz.\n",
    "# Sonucunuzu adim_buyuklugu ismindeki degiskenine atayınız.\n",
    "\n",
    "fonk = lambda x: x[0]**2 + x[1]**2\n",
    "yon = [-1 * g for g in grad_hesapla([1,1], fonk)]\n",
    "\n",
    "adim_buyuklugu = alpha_hesapla([1,1], yon, fonk)\n",
    "print(adim_buyuklugu)"
   ]
  },
  {
   "cell_type": "code",
   "execution_count": 8,
   "metadata": {},
   "outputs": [
    {
     "name": "stdout",
     "output_type": "stream",
     "text": [
      "[-2.22044605e-16 -2.22044605e-16]\n"
     ]
    }
   ],
   "source": [
    "# Soru 7: yon ve adim_buyuklugu değişkenlerini kullanarak x0 noktasından bir sonraki noktayı hesaplayınız.\n",
    "# Sonucu x1 ismindeki degiskenine atayınız\n",
    "\n",
    "x0 = [1, 1]\n",
    "\n",
    "import numpy as np\n",
    "\n",
    "x1 = np.add(x0, np.multiply(adim_buyuklugu, yon))\n",
    "\n",
    "print(x1)\n"
   ]
  },
  {
   "cell_type": "code",
   "execution_count": null,
   "metadata": {},
   "outputs": [],
   "source": [
    "# Soru 8: x1 ve x0 noktaları arasındaki uzaklığı norm fonksiyonu kullanarak hesaplayınız.\n",
    "# Sonucu x1_x0_uzakligi ismindeki degiskenine atayınız.\n",
    "# ipucu (yeşil tickli cevaba bakınız): https://stackoverflow.com/questions/1401712/how-can-the-euclidean-distance-be-calculated-with-numpy   \n",
    "\n",
    "import numpy as np\n",
    "\n",
    "carpim = adim_buyuklugu * yon\n",
    "\n",
    "x1_x0_uzakligi = np.linalg.norm(carpim)\n",
    "\n",
    "print(x1_x0_uzakligi)"
   ]
  }
 ],
 "metadata": {
  "kernelspec": {
   "display_name": "ml",
   "language": "python",
   "name": "python3"
  },
  "language_info": {
   "codemirror_mode": {
    "name": "ipython",
    "version": 3
   },
   "file_extension": ".py",
   "mimetype": "text/x-python",
   "name": "python",
   "nbconvert_exporter": "python",
   "pygments_lexer": "ipython3",
   "version": "3.8.8"
  },
  "orig_nbformat": 4
 },
 "nbformat": 4,
 "nbformat_minor": 2
}
